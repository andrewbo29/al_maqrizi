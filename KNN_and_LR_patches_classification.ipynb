{
 "cells": [
  {
   "cell_type": "code",
   "execution_count": 4,
   "metadata": {},
   "outputs": [],
   "source": [
    "import numpy as np\n",
    "import os\n",
    "import skimage\n",
    "import skimage.io"
   ]
  },
  {
   "cell_type": "markdown",
   "metadata": {},
   "source": [
    "## Reading patches"
   ]
  },
  {
   "cell_type": "code",
   "execution_count": 9,
   "metadata": {},
   "outputs": [],
   "source": [
    "train_dir_1 = 'patches/train/1'\n",
    "train_dir_0 = 'patches/train/0'\n",
    "\n",
    "def read_images_flat(dir_name):\n",
    "    for im_file in os.listdir(dir_name):\n",
    "        im = skimage.io.imread(os.path.join(dir_name, im_file), as_grey=False)\n",
    "        yield 1. - im.flatten() / 255.\n",
    "    \n",
    "    \n",
    "X_train_0 = list(read_images_flat('patches/train/0'))\n",
    "X_train_1 = list(read_images_flat('patches/train/1'))\n",
    "\n",
    "X_train = X_train_0 + X_train_1\n",
    "y_train = [0] * len(X_train_0) + [1] * len(X_train_1)\n",
    "\n",
    "X_valid_0 = list(read_images_flat('patches/val/0'))\n",
    "X_valid_1 = list(read_images_flat('patches/val/1'))\n",
    "\n",
    "X_valid = X_valid_0 + X_valid_1\n",
    "y_valid = [0] * len(X_valid_0) + [1] * len(X_valid_1)"
   ]
  },
  {
   "cell_type": "markdown",
   "metadata": {},
   "source": [
    "## Models quality"
   ]
  },
  {
   "cell_type": "code",
   "execution_count": 20,
   "metadata": {},
   "outputs": [],
   "source": [
    "import sklearn\n",
    "import sklearn.neighbors\n",
    "import sklearn.metrics\n",
    "import sklearn.linear_model"
   ]
  },
  {
   "cell_type": "markdown",
   "metadata": {},
   "source": [
    "### KNN"
   ]
  },
  {
   "cell_type": "code",
   "execution_count": 13,
   "metadata": {},
   "outputs": [
    {
     "data": {
      "text/plain": [
       "KNeighborsClassifier(algorithm='auto', leaf_size=30, metric='minkowski',\n",
       "           metric_params=None, n_jobs=4, n_neighbors=10, p=2,\n",
       "           weights='uniform')"
      ]
     },
     "execution_count": 13,
     "output_type": "execute_result",
     "metadata": {}
    }
   ],
   "source": [
    "model = sklearn.neighbors.KNeighborsClassifier(\n",
    "    algorithm='auto', leaf_size=30, metric='minkowski',\n",
    "    metric_params=None, n_jobs=4, n_neighbors=10, p=2,\n",
    "    weights='uniform')\n",
    "\n",
    "model.fit(X_train, y_train)"
   ]
  },
  {
   "cell_type": "code",
   "execution_count": 21,
   "metadata": {},
   "outputs": [
    {
     "name": "stdout",
     "output_type": "stream",
     "text": [
      "             precision    recall  f1-score   support\n",
      "\n",
      "          0       0.74      1.00      0.85      2381\n",
      "          1       0.99      0.30      0.46      1186\n",
      "\n",
      "avg / total       0.82      0.77      0.72      3567\n",
      "\n",
      "AUC 0.910162167752\n"
     ]
    }
   ],
   "source": [
    "y_valid_pred = model.predict(X_valid)\n",
    "y_valid_pred_p = model.predict_proba(X_valid)[:,1]\n",
    "\n",
    "print sklearn.metrics.classification_report(y_valid, y_valid_pred)\n",
    "print 'AUC', sklearn.metrics.roc_auc_score(y_valid, y_valid_pred_p)"
   ]
  },
  {
   "cell_type": "markdown",
   "metadata": {},
   "source": [
    "### LogisticRegression"
   ]
  },
  {
   "cell_type": "code",
   "execution_count": 23,
   "metadata": {},
   "outputs": [
    {
     "data": {
      "text/plain": [
       "LogisticRegression(C=1.0, class_weight=None, dual=False, fit_intercept=True,\n",
       "          intercept_scaling=1, max_iter=100, multi_class='ovr', n_jobs=1,\n",
       "          penalty='l2', random_state=None, solver='liblinear', tol=0.0001,\n",
       "          verbose=0, warm_start=False)"
      ]
     },
     "execution_count": 23,
     "output_type": "execute_result",
     "metadata": {}
    }
   ],
   "source": [
    "model = sklearn.linear_model.LogisticRegression()\n",
    "model.fit(X_train, y_train)"
   ]
  },
  {
   "cell_type": "code",
   "execution_count": 24,
   "metadata": {},
   "outputs": [
    {
     "name": "stdout",
     "output_type": "stream",
     "text": [
      "             precision    recall  f1-score   support\n",
      "\n",
      "          0       0.96      0.96      0.96      2381\n",
      "          1       0.91      0.92      0.92      1186\n",
      "\n",
      "avg / total       0.94      0.94      0.94      3567\n",
      "\n",
      "AUC 0.983639450314\n"
     ]
    }
   ],
   "source": [
    "y_valid_pred = model.predict(X_valid)\n",
    "y_valid_pred_p = model.predict_proba(X_valid)[:,1]\n",
    "\n",
    "print sklearn.metrics.classification_report(y_valid, y_valid_pred)\n",
    "print 'AUC', sklearn.metrics.roc_auc_score(y_valid, y_valid_pred_p)"
   ]
  },
  {
   "cell_type": "code",
   "execution_count": null,
   "metadata": {},
   "outputs": [],
   "source": [
    ""
   ]
  }
 ],
 "metadata": {
  "kernelspec": {
   "display_name": "Python 2",
   "language": "python",
   "name": "python2"
  },
  "language_info": {
   "codemirror_mode": {
    "name": "ipython",
    "version": 2.0
   },
   "file_extension": ".py",
   "mimetype": "text/x-python",
   "name": "python",
   "nbconvert_exporter": "python",
   "pygments_lexer": "ipython2",
   "version": "2.7.9"
  }
 },
 "nbformat": 4,
 "nbformat_minor": 0
}